{
  "cells": [
    {
      "cell_type": "markdown",
      "metadata": {
        "id": "Ol4XOkluYqXX"
      },
      "source": [
        "# Tackling Text Readability with Unsupervised Large Language Models\n"
      ]
    },
    {
      "cell_type": "markdown",
      "metadata": {
        "id": "6HzDHmQkxVbM"
      },
      "source": [
        "### **INTRODUCTION** ###\n",
        "\n",
        "In an effort to calculate a clear, intuitive readability score for a given document, I used BERT to compute a **Ranked Sentence Readability Score (RSRS)** for a given document. The Ranked Sentence Readability Score calculates readability based on the likelihood that a word will appear next in a sentence. Using likelihood, sentence length, and word position, I calculated the RSRS for each sentence in a document, and then averaged the sentences' scores to produce the readability score for the document as a whole. \n",
        "\n",
        "To develop a readablity score that is clear and intuitive without losing the nuance and rigor of the RSRS, I used three techniques to map RSRS: min-max scaling, z-score normalization, and boxcox transformation.\n",
        "\n",
        "To measure how well these transformed scores align with human experience, I had planned to create a simple demonstration of the program. For two random samples from my dataset, I had planned to calculate the raw readability score along with the scaled, standardized, and BoxCox-transformed scores. I planned to ask users to select the score that best represented their experience reading the document. However, I did not have the time to integrate human feedback in this experiment. From cursory first-glance analysis of the article with the maximum readability score of 200 randomly sampled articles, generating a simple percentage scale of readability appears to be most effective at producing a clear, intuitive readability score. "
      ]
    },
    {
      "cell_type": "markdown",
      "metadata": {
        "id": "fywciczuENi5"
      },
      "source": [
        "### **DATA** ###\n",
        "\n",
        "Given that BERT is such a context-based model, the database I chose was critical in shaping how readability would be measured. The Wikipedia database provides a useful context for measuring readability because of the crowd-sourced nature and sheer volume of Wikipedia articles available. Articles are written to be easily understood by anyone, providing a good baseline for what we define as **readable.** \n",
        "\n",
        "In Martinic et. al, data was taken from the Corpus of English Wikipedia and the Corpus of Simple Wikipedia articles as of 2018. They divided the corpus into three sub-corpora, Wiki-normal, Wiki-simple, and Wiki-balanced. Altogether, the three corpora contained `390,000` randomly selected articles, `1,500,000` sentences, and over `30 million` tokens (Martinic et. al, 2021). \n",
        "\n",
        "For the purposes of my experiment, I used a sample of the Corpus of English Wikipedia that contains approximately `205,328` articles. "
      ]
    },
    {
      "cell_type": "markdown",
      "metadata": {
        "id": "TLx0V-4hEp2o"
      },
      "source": [
        "#### Setting Up Tensorflow ####\n",
        "Here, I set up Tensorflow and other relevant imports for in my analysis, including the specific BERT model I use, the Google Bucket I use to store my database, and the HuggingFace datasets library I get my corpus from. I also include any relevant dependencies for those imporrts. "
      ]
    },
    {
      "cell_type": "code",
      "execution_count": null,
      "metadata": {
        "id": "vE2cfpyQTR49"
      },
      "outputs": [],
      "source": [
        "!pip install -q -U \"tensorflow-text==2.12.*\""
      ]
    },
    {
      "cell_type": "code",
      "execution_count": null,
      "metadata": {
        "id": "af9FCcemYomp"
      },
      "outputs": [],
      "source": [
        "!pip install -q -U tf-models-official==2.12.*"
      ]
    },
    {
      "cell_type": "code",
      "execution_count": null,
      "metadata": {
        "id": "CVRDGKjlZBl6"
      },
      "outputs": [],
      "source": [
        "import os\n",
        "import tensorflow as tf\n",
        "import tensorflow_models as tfm\n",
        "import tensorflow_hub as hub\n",
        "import tensorflow_text as text  # A dependency of the preprocessing model\n",
        "import tensorflow_addons as tfa\n",
        "from official.nlp import optimization\n",
        "import numpy as np\n",
        "\n",
        "tf.get_logger().setLevel('ERROR')"
      ]
    },
    {
      "cell_type": "code",
      "execution_count": null,
      "metadata": {
        "colab": {
          "base_uri": "https://localhost:8080/"
        },
        "id": "c6ZIMJHCgPJP",
        "outputId": "31691b11-5468-41ce-a802-457549843065"
      },
      "outputs": [
        {
          "data": {
            "text/plain": [
              "['bert_config.json',\n",
              " 'bert_model.ckpt.data-00000-of-00001',\n",
              " 'bert_model.ckpt.index',\n",
              " 'vocab.txt']"
            ]
          },
          "execution_count": 79,
          "metadata": {},
          "output_type": "execute_result"
        }
      ],
      "source": [
        "gs_folder_bert = \"gs://cloud-tpu-checkpoints/bert/v3/uncased_L-12_H-768_A-12\"\n",
        "tf.io.gfile.listdir(gs_folder_bert)"
      ]
    },
    {
      "cell_type": "code",
      "execution_count": null,
      "metadata": {
        "cellView": "form",
        "colab": {
          "base_uri": "https://localhost:8080/"
        },
        "id": "dJ8tO8u4ZgDw",
        "outputId": "8644bf62-f5b0-4940-d41e-2911c714ad3b"
      },
      "outputs": [
        {
          "name": "stdout",
          "output_type": "stream",
          "text": [
            "BERT model selected           : https://tfhub.dev/tensorflow/bert_en_cased_L-24_H-1024_A-16/3\n",
            "Preprocessing model auto-selected: https://tfhub.dev/tensorflow/bert_en_cased_preprocess/3\n"
          ]
        }
      ],
      "source": [
        "#@title Choose a BERT model to fine-tune\n",
        "\n",
        "bert_model_name = 'bert_en_cased_L-24_H-1024_A-16'  #@param [\"bert_en_uncased_L-12_H-768_A-12\", \"bert_en_uncased_L-24_H-1024_A-16\", \"bert_en_wwm_uncased_L-24_H-1024_A-16\", \"bert_en_cased_L-12_H-768_A-12\", \"bert_en_cased_L-24_H-1024_A-16\", \"bert_en_wwm_cased_L-24_H-1024_A-16\", \"bert_multi_cased_L-12_H-768_A-12\", \"small_bert/bert_en_uncased_L-2_H-128_A-2\", \"small_bert/bert_en_uncased_L-2_H-256_A-4\", \"small_bert/bert_en_uncased_L-2_H-512_A-8\", \"small_bert/bert_en_uncased_L-2_H-768_A-12\", \"small_bert/bert_en_uncased_L-4_H-128_A-2\", \"small_bert/bert_en_uncased_L-4_H-256_A-4\", \"small_bert/bert_en_uncased_L-4_H-512_A-8\", \"small_bert/bert_en_uncased_L-4_H-768_A-12\", \"small_bert/bert_en_uncased_L-6_H-128_A-2\", \"small_bert/bert_en_uncased_L-6_H-256_A-4\", \"small_bert/bert_en_uncased_L-6_H-512_A-8\", \"small_bert/bert_en_uncased_L-6_H-768_A-12\", \"small_bert/bert_en_uncased_L-8_H-128_A-2\", \"small_bert/bert_en_uncased_L-8_H-256_A-4\", \"small_bert/bert_en_uncased_L-8_H-512_A-8\", \"small_bert/bert_en_uncased_L-8_H-768_A-12\", \"small_bert/bert_en_uncased_L-10_H-128_A-2\", \"small_bert/bert_en_uncased_L-10_H-256_A-4\", \"small_bert/bert_en_uncased_L-10_H-512_A-8\", \"small_bert/bert_en_uncased_L-10_H-768_A-12\", \"small_bert/bert_en_uncased_L-12_H-128_A-2\", \"small_bert/bert_en_uncased_L-12_H-256_A-4\", \"small_bert/bert_en_uncased_L-12_H-512_A-8\", \"small_bert/bert_en_uncased_L-12_H-768_A-12\", \"albert_en_base\", \"albert_en_large\", \"albert_en_xlarge\", \"albert_en_xxlarge\", \"electra_small\", \"electra_base\", \"experts_pubmed\", \"experts_wiki_books\", \"talking-heads_base\", \"talking-heads_large\"]\n",
        "\n",
        "map_name_to_handle = {\n",
        "    'bert_en_uncased_L-12_H-768_A-12':\n",
        "        'https://tfhub.dev/tensorflow/bert_en_uncased_L-12_H-768_A-12/3',\n",
        "    'bert_en_uncased_L-24_H-1024_A-16':\n",
        "        'https://tfhub.dev/tensorflow/bert_en_uncased_L-24_H-1024_A-16/3',\n",
        "    'bert_en_cased_L-12_H-768_A-12':\n",
        "        'https://tfhub.dev/tensorflow/bert_en_cased_L-12_H-768_A-12/3',\n",
        "    'bert_en_cased_L-24_H-1024_A-16':\n",
        "        'https://tfhub.dev/tensorflow/bert_en_cased_L-24_H-1024_A-16/3',\n",
        "    'bert_multi_cased_L-12_H-768_A-12':\n",
        "        'https://tfhub.dev/tensorflow/bert_multi_cased_L-12_H-768_A-12/3',\n",
        "    'electra_small':\n",
        "        'https://tfhub.dev/google/electra_small/2',\n",
        "    'electra_base':\n",
        "        'https://tfhub.dev/google/electra_base/2',\n",
        "}\n",
        "\n",
        "map_model_to_preprocess = {\n",
        "    'bert_en_uncased_L-24_H-1024_A-16':\n",
        "        'https://tfhub.dev/tensorflow/bert_en_uncased_preprocess/3',\n",
        "    'bert_en_uncased_L-12_H-768_A-12':\n",
        "        'https://tfhub.dev/tensorflow/bert_en_uncased_preprocess/3',\n",
        "    'bert_en_cased_L-24_H-1024_A-16':\n",
        "        'https://tfhub.dev/tensorflow/bert_en_cased_preprocess/3',\n",
        "    'bert_en_cased_L-12_H-768_A-12':\n",
        "        'https://tfhub.dev/tensorflow/bert_en_cased_preprocess/3',\n",
        "    'bert_multi_cased_L-12_H-768_A-12':\n",
        "        'https://tfhub.dev/tensorflow/bert_multi_cased_preprocess/3',\n",
        "    'electra_small':\n",
        "        'https://tfhub.dev/tensorflow/bert_en_uncased_preprocess/3',\n",
        "    'electra_base':\n",
        "        'https://tfhub.dev/tensorflow/bert_en_uncased_preprocess/3',\n",
        "}\n",
        "\n",
        "tfhub_handle_encoder = map_name_to_handle[bert_model_name]\n",
        "tfhub_handle_preprocess = map_model_to_preprocess[bert_model_name]\n",
        "\n",
        "print('BERT model selected           :', tfhub_handle_encoder)\n",
        "print('Preprocessing model auto-selected:', tfhub_handle_preprocess)"
      ]
    },
    {
      "cell_type": "code",
      "execution_count": null,
      "metadata": {
        "colab": {
          "base_uri": "https://localhost:8080/"
        },
        "id": "7nflWb-9bSM-",
        "outputId": "230ab151-49f9-4ded-cf9d-b9403a15136b"
      },
      "outputs": [
        {
          "name": "stdout",
          "output_type": "stream",
          "text": [
            "***** Model output directory: gs://berts_bucket *****\n"
          ]
        }
      ],
      "source": [
        "#@markdown Set USE_BUCKET and BUCKET if you want to (optionally) store model output on GCP bucket.\n",
        "USE_BUCKET = True #@param {type:\"boolean\"}\n",
        "BUCKET = 'berts_bucket' #@param {type:\"string\"}\n",
        "\n",
        "if USE_BUCKET:\n",
        "  OUTPUT_DIR = \"gs://berts_bucket\"\n",
        "  from google.colab import auth\n",
        "  auth.authenticate_user()\n",
        "\n",
        "tf.io.gfile.makedirs(OUTPUT_DIR)\n",
        "print('***** Model output directory: {} *****'.format(OUTPUT_DIR))"
      ]
    },
    {
      "cell_type": "code",
      "execution_count": null,
      "metadata": {
        "id": "UIZzVVeTg6Rq"
      },
      "outputs": [],
      "source": [
        "!pip install datasets"
      ]
    },
    {
      "cell_type": "code",
      "execution_count": null,
      "metadata": {
        "id": "zl9f2-Zw6aEY"
      },
      "outputs": [],
      "source": [
        "!pip install apache_beam mwparserfromhell"
      ]
    },
    {
      "cell_type": "markdown",
      "metadata": {
        "id": "3CucH1r_oeOb"
      },
      "source": [
        "### Looking at Data ###"
      ]
    },
    {
      "cell_type": "code",
      "execution_count": null,
      "metadata": {
        "id": "TtfLdfuYhXkv"
      },
      "outputs": [],
      "source": [
        "#@title Dataset Imports\n",
        "#@markdown Imports required for Wikipedia sample dataset \n",
        "import pandas as pd\n",
        "import numpy as np\n",
        "from datasets import load_dataset\n",
        "data = load_dataset(\"wikipedia\", \"20220301.simple\")"
      ]
    },
    {
      "cell_type": "code",
      "execution_count": null,
      "metadata": {
        "colab": {
          "base_uri": "https://localhost:8080/",
          "height": 250
        },
        "id": "MGZ10YSn7Oo1",
        "outputId": "54a3d4f7-9551-4683-848d-b1b218984aa0"
      },
      "outputs": [
        {
          "data": {
            "text/html": [
              "\n",
              "  <div id=\"df-f28c5d9e-e51a-4839-9d24-b8e241fe950b\">\n",
              "    <div class=\"colab-df-container\">\n",
              "      <div>\n",
              "<style scoped>\n",
              "    .dataframe tbody tr th:only-of-type {\n",
              "        vertical-align: middle;\n",
              "    }\n",
              "\n",
              "    .dataframe tbody tr th {\n",
              "        vertical-align: top;\n",
              "    }\n",
              "\n",
              "    .dataframe thead th {\n",
              "        text-align: right;\n",
              "    }\n",
              "</style>\n",
              "<table border=\"1\" class=\"dataframe\">\n",
              "  <thead>\n",
              "    <tr style=\"text-align: right;\">\n",
              "      <th></th>\n",
              "      <th>id</th>\n",
              "      <th>url</th>\n",
              "      <th>title</th>\n",
              "      <th>text</th>\n",
              "    </tr>\n",
              "  </thead>\n",
              "  <tbody>\n",
              "    <tr>\n",
              "      <th>0</th>\n",
              "      <td>1</td>\n",
              "      <td>https://simple.wikipedia.org/wiki/April</td>\n",
              "      <td>April</td>\n",
              "      <td>April is the fourth month of the year in the J...</td>\n",
              "    </tr>\n",
              "    <tr>\n",
              "      <th>1</th>\n",
              "      <td>2</td>\n",
              "      <td>https://simple.wikipedia.org/wiki/August</td>\n",
              "      <td>August</td>\n",
              "      <td>August (Aug.) is the eighth month of the year ...</td>\n",
              "    </tr>\n",
              "    <tr>\n",
              "      <th>2</th>\n",
              "      <td>6</td>\n",
              "      <td>https://simple.wikipedia.org/wiki/Art</td>\n",
              "      <td>Art</td>\n",
              "      <td>Art is a creative activity that expresses imag...</td>\n",
              "    </tr>\n",
              "    <tr>\n",
              "      <th>3</th>\n",
              "      <td>8</td>\n",
              "      <td>https://simple.wikipedia.org/wiki/A</td>\n",
              "      <td>A</td>\n",
              "      <td>A or a is the first letter of the English alph...</td>\n",
              "    </tr>\n",
              "    <tr>\n",
              "      <th>4</th>\n",
              "      <td>9</td>\n",
              "      <td>https://simple.wikipedia.org/wiki/Air</td>\n",
              "      <td>Air</td>\n",
              "      <td>Air refers to the Earth's atmosphere. Air is a...</td>\n",
              "    </tr>\n",
              "  </tbody>\n",
              "</table>\n",
              "</div>\n",
              "      <button class=\"colab-df-convert\" onclick=\"convertToInteractive('df-f28c5d9e-e51a-4839-9d24-b8e241fe950b')\"\n",
              "              title=\"Convert this dataframe to an interactive table.\"\n",
              "              style=\"display:none;\">\n",
              "        \n",
              "  <svg xmlns=\"http://www.w3.org/2000/svg\" height=\"24px\"viewBox=\"0 0 24 24\"\n",
              "       width=\"24px\">\n",
              "    <path d=\"M0 0h24v24H0V0z\" fill=\"none\"/>\n",
              "    <path d=\"M18.56 5.44l.94 2.06.94-2.06 2.06-.94-2.06-.94-.94-2.06-.94 2.06-2.06.94zm-11 1L8.5 8.5l.94-2.06 2.06-.94-2.06-.94L8.5 2.5l-.94 2.06-2.06.94zm10 10l.94 2.06.94-2.06 2.06-.94-2.06-.94-.94-2.06-.94 2.06-2.06.94z\"/><path d=\"M17.41 7.96l-1.37-1.37c-.4-.4-.92-.59-1.43-.59-.52 0-1.04.2-1.43.59L10.3 9.45l-7.72 7.72c-.78.78-.78 2.05 0 2.83L4 21.41c.39.39.9.59 1.41.59.51 0 1.02-.2 1.41-.59l7.78-7.78 2.81-2.81c.8-.78.8-2.07 0-2.86zM5.41 20L4 18.59l7.72-7.72 1.47 1.35L5.41 20z\"/>\n",
              "  </svg>\n",
              "      </button>\n",
              "      \n",
              "  <style>\n",
              "    .colab-df-container {\n",
              "      display:flex;\n",
              "      flex-wrap:wrap;\n",
              "      gap: 12px;\n",
              "    }\n",
              "\n",
              "    .colab-df-convert {\n",
              "      background-color: #E8F0FE;\n",
              "      border: none;\n",
              "      border-radius: 50%;\n",
              "      cursor: pointer;\n",
              "      display: none;\n",
              "      fill: #1967D2;\n",
              "      height: 32px;\n",
              "      padding: 0 0 0 0;\n",
              "      width: 32px;\n",
              "    }\n",
              "\n",
              "    .colab-df-convert:hover {\n",
              "      background-color: #E2EBFA;\n",
              "      box-shadow: 0px 1px 2px rgba(60, 64, 67, 0.3), 0px 1px 3px 1px rgba(60, 64, 67, 0.15);\n",
              "      fill: #174EA6;\n",
              "    }\n",
              "\n",
              "    [theme=dark] .colab-df-convert {\n",
              "      background-color: #3B4455;\n",
              "      fill: #D2E3FC;\n",
              "    }\n",
              "\n",
              "    [theme=dark] .colab-df-convert:hover {\n",
              "      background-color: #434B5C;\n",
              "      box-shadow: 0px 1px 3px 1px rgba(0, 0, 0, 0.15);\n",
              "      filter: drop-shadow(0px 1px 2px rgba(0, 0, 0, 0.3));\n",
              "      fill: #FFFFFF;\n",
              "    }\n",
              "  </style>\n",
              "\n",
              "      <script>\n",
              "        const buttonEl =\n",
              "          document.querySelector('#df-f28c5d9e-e51a-4839-9d24-b8e241fe950b button.colab-df-convert');\n",
              "        buttonEl.style.display =\n",
              "          google.colab.kernel.accessAllowed ? 'block' : 'none';\n",
              "\n",
              "        async function convertToInteractive(key) {\n",
              "          const element = document.querySelector('#df-f28c5d9e-e51a-4839-9d24-b8e241fe950b');\n",
              "          const dataTable =\n",
              "            await google.colab.kernel.invokeFunction('convertToInteractive',\n",
              "                                                     [key], {});\n",
              "          if (!dataTable) return;\n",
              "\n",
              "          const docLinkHtml = 'Like what you see? Visit the ' +\n",
              "            '<a target=\"_blank\" href=https://colab.research.google.com/notebooks/data_table.ipynb>data table notebook</a>'\n",
              "            + ' to learn more about interactive tables.';\n",
              "          element.innerHTML = '';\n",
              "          dataTable['output_type'] = 'display_data';\n",
              "          await google.colab.output.renderOutput(dataTable, element);\n",
              "          const docLink = document.createElement('div');\n",
              "          docLink.innerHTML = docLinkHtml;\n",
              "          element.appendChild(docLink);\n",
              "        }\n",
              "      </script>\n",
              "    </div>\n",
              "  </div>\n",
              "  "
            ],
            "text/plain": [
              "  id                                       url   title  \\\n",
              "0  1   https://simple.wikipedia.org/wiki/April   April   \n",
              "1  2  https://simple.wikipedia.org/wiki/August  August   \n",
              "2  6     https://simple.wikipedia.org/wiki/Art     Art   \n",
              "3  8       https://simple.wikipedia.org/wiki/A       A   \n",
              "4  9     https://simple.wikipedia.org/wiki/Air     Air   \n",
              "\n",
              "                                                text  \n",
              "0  April is the fourth month of the year in the J...  \n",
              "1  August (Aug.) is the eighth month of the year ...  \n",
              "2  Art is a creative activity that expresses imag...  \n",
              "3  A or a is the first letter of the English alph...  \n",
              "4  Air refers to the Earth's atmosphere. Air is a...  "
            ]
          },
          "execution_count": 54,
          "metadata": {},
          "output_type": "execute_result"
        }
      ],
      "source": [
        "#Cleaning and processing Dataset of type Dataset.Dict into pd.DataFrame \n",
        "data['train']\n",
        "simple_df = pd.DataFrame(data['train'])\n",
        "# simple_df = simple_df.replace(r'\\\\|[\\']|\\n','', regex=True) \n",
        "simple_df.head()"
      ]
    },
    {
      "cell_type": "markdown",
      "metadata": {
        "id": "OmR3NBOJ__SS"
      },
      "source": [
        "Here is a randomly sampled article from my processed Wikipedia corpus:"
      ]
    },
    {
      "cell_type": "code",
      "execution_count": null,
      "metadata": {
        "colab": {
          "base_uri": "https://localhost:8080/",
          "height": 589
        },
        "id": "2RJ0xHor39lp",
        "outputId": "05749dd4-3207-4358-a8da-28a51836495a"
      },
      "outputs": [
        {
          "data": {
            "application/vnd.google.colaboratory.intrinsic+json": {
              "type": "string"
            },
            "text/plain": [
              "'The Grand Korean Waterway plan, officially known as the Pan Korea Grand Waterway (한반도대운하, 韓半島大運河), consists of 3 canals. They are called the Seoul-Busan Canal (GyeongBu Canal,경부운하), the Honam Canal (호남운하), and the North Korea Canal (BukHan Canal, 북한운하).The Seoul-Busan Canal runs between Seoul and Busan,  two of South Koreas largest cities, and connecting the Han River and Nakdong River. Then the Honam Canal, which runs through ChungCheongBuk-do, ChungCheongNam-do, JeollaBuk-do, and JeollaNam-do, connects Geum River and YeongSan River. The North Korea Canal would connect SinUiJu-Pyongyang-GaeSeong, Wonsan-GaeSeong. The canal was a project headed by Lee Myung Bak, who South Koreas president  from 2008 to 2013. It is hugely controversial.  Many Koreans object to this plan. Former president Lee said that he would not carry out this plan if many people objected to this idea, but there was a person who works in the Korea Institute of Construction Technology (한국건설기술연구원) has confessed that governments Four-Major-River Arrangement Plan is a canal project in reality.GyeongBu CanalThe major canal in this plan is the GyeongBu Canal (Seoul-Busan Canal, 경부운하).RouteThe GyeongBu Canal starts in Seoul, the capital of South Korea. It flows along the Han River, and encounter with mountains. And then 40\\xa0km-long tunnel begins, connecting the Han River with the Nakdong River.ControversyMany Koreans are anxious about this plan. Critics of the plan say that this canal is not efficient at all. They say that mountains along the proposed route would make it difficult and expensive to construct. Currently, the major transportation method on the GyeongBu (Seoul-Busan) line is road transport, which takes 5 hours. However, ships following the GyeongBu Canal will take 25 hours to finish the trip. Critics believe this plan would just be a waste of money. In addition, it could be harmful to the environment and damage cultural treasures. On the other hand, supporters of this plan say that this canal will lessen congestion on the GyeongBu Expressway and GyeongBu Railroad line. Furthermore, sand from dredging the river bed could be sold for use in construction. They argue that this money could be used to fund the construction of the canals. However, critics argue that sand prices will be so cheap that little money will be earned from selling the sand. They say that it is only beneficial to the construction industry.Related pagesKoreaSouth KoreaNorth KoreaCanalReferencesSupporters of this plan Critics of this plan CanalsGeography of South Korea'"
            ]
          },
          "execution_count": 66,
          "metadata": {},
          "output_type": "execute_result"
        }
      ],
      "source": [
        "import random\n",
        "clean_df = simple_df.replace(r'\\\\|[\\']|\\n','', regex=True) \n",
        "seed = np.random.randint(0,205328)\n",
        "clean_df['text'][seed]"
      ]
    },
    {
      "cell_type": "markdown",
      "metadata": {
        "id": "h5xv5p6lEbjS"
      },
      "source": [
        "### **METHOD** ###\n",
        "\n",
        "Here, I replicate a portion of the Martinic et. al experiment using BERT, a family of large language models that use the context around a word to make predictions. BERT works by learning how words are related in a given **context.** Rather than reading a sequence of words from left to right, it takes in an entire sequence at once and learns the context of a given word based on its surroundings. Using that context, BERT produces two predictions:\n",
        "\n",
        "> **Masked Language Modeling** <br> BERT masks 15% of words in a sequence, then attempts to predict **the original value of the masked tokens** using the non-masked words for context. <br>\n",
        "> text: `\"The Milky Way is a [MASK] galaxy.\"` <br>\n",
        "output: `The Milky Way is a spiral galaxy.` \n",
        "\n",
        "> **Next Sentence Predition** <br> BERT separates the document into pairs of sentences. For half of the pairs, it *replaces* the second sentence with a random sentence from the document. Then, BERT attempts to predict **whether the second sentence in a given pair is the subsequent sentence in the original document.**\n",
        "\n",
        "For ease of use, I created a class Bertie that contains all the preprocessing methods I used as well as the BERT model itself.  \n",
        "\n"
      ]
    },
    {
      "cell_type": "code",
      "execution_count": null,
      "metadata": {
        "colab": {
          "base_uri": "https://localhost:8080/"
        },
        "id": "XTbEeFg0uJF8",
        "outputId": "184d3075-4153-42ae-ba2c-55be1708a895"
      },
      "outputs": [
        {
          "name": "stderr",
          "output_type": "stream",
          "text": [
            "[nltk_data] Downloading package punkt to /root/nltk_data...\n",
            "[nltk_data]   Unzipping tokenizers/punkt.zip.\n"
          ]
        }
      ],
      "source": [
        "#@title Program setup and required imports\n",
        "import json\n",
        "import math \n",
        "import random\n",
        "import numpy as np\n",
        "import nltk\n",
        "nltk.download('punkt')\n",
        "from scipy.special import softmax\n",
        "np.set_printoptions(precision=5)"
      ]
    },
    {
      "cell_type": "code",
      "execution_count": null,
      "metadata": {
        "id": "HT7gIFxW-uav"
      },
      "outputs": [],
      "source": [
        "!pip install transformers"
      ]
    },
    {
      "cell_type": "code",
      "execution_count": null,
      "metadata": {
        "id": "4dXoMRuAsU4f"
      },
      "outputs": [],
      "source": [
        "#@title Bertie Object\n",
        "class Bertie():\n",
        "  #@markdown Initializes Bertie object with <br> FastPieceBertTokenizer, a pre-trained tokenizer from Tensorflow \n",
        "  #@markdown <br> Also initializes dictionary of special tokens associated with the FastPieceBertTokenizer\n",
        "  def __init__(self):\n",
        "    self.tokenizer = tfm.nlp.layers.FastWordpieceBertTokenizer(\n",
        "      vocab_file=os.path.join(gs_folder_bert, \"vocab.txt\"),\n",
        "      lower_case=True)\n",
        "    self.special_dict = self.tokenizer.get_special_tokens_dict()\n",
        "    self.max_seq_length = 128\n",
        "    self.packer = None\n",
        "    self.model = None\n",
        "  #@markdown\n",
        "  def getTokenizer(self):\n",
        "    return self.tokenizer\n",
        "  \n",
        "  def getPacker(self, seq_length):\n",
        "    self.packer = tfm.nlp.layers.BertPackInputs(\n",
        "    seq_length=seq_length,\n",
        "    special_tokens_dict = self.special_dict)\n",
        "    return self.packer\n",
        "  \n",
        "  def getBertie(self):\n",
        "    return self.model\n",
        "  \n",
        "  def makeBertie(self):\n",
        "    bert_config_file = os.path.join(gs_folder_bert, \"bert_config.json\")\n",
        "    config_dict = json.loads(tf.io.gfile.GFile(bert_config_file).read())\n",
        "    encoder_config = tfm.nlp.encoders.EncoderConfig({\n",
        "        'type':'bert',\n",
        "        'bert': config_dict\n",
        "    })\n",
        "    bert_encoder = tfm.nlp.encoders.build_encoder(encoder_config)\n",
        "    self.model = tfm.nlp.models.BertTokenClassifier(network=bert_encoder, num_classes=2)\n"
      ]
    },
    {
      "cell_type": "code",
      "execution_count": null,
      "metadata": {
        "id": "MREYNXp43hoT"
      },
      "outputs": [],
      "source": [
        "#@title Preprocesses data\n",
        "#@markdown Returns tensorflow tensor ready to use for classification\n",
        "# Parameters\n",
        "  # bertie: Model object\n",
        "  # sample: sentence\n",
        "  # max_seq_length: length of sentence\n",
        "def preprocess(bertie, sentence, max_seq_length):\n",
        "  tokenizer = bertie.getTokenizer()\n",
        "  packer = bertie.getPacker(max_seq_length)\n",
        "\n",
        "  toks = tokenizer([sentence])\n",
        "  packed = packer([toks])\n",
        "\n",
        "  return packed\n"
      ]
    },
    {
      "cell_type": "markdown",
      "metadata": {
        "id": "NOEhqG-rOFQK"
      },
      "source": [
        "#### **COMPUTING WNLL** ####\n",
        "For the purposes of my analysis, I use Masked Language Modeling at the token level. Once each article is separated into sentences, I separate each sentence into tokens. For each token, I use BERT to predict the likelihood that a token will appear next in the sentence. \n",
        "\n",
        "Using this probability, I calculate the word negative log likelihood for each word using the following formula:\n",
        "\n",
        "$\n",
        "WNLL = -(y_{t}logy_{p} + (1-y_{t})log(1-y_{p}))\n",
        "$\n",
        "\n",
        "where y<sub>p</sub> is the probability of the word predicted by BERT, and y<sub>t</sub> is 1 for the word in the vocabulary that actually appears next in the sequence and 0 for all other words in the vocabulary. "
      ]
    },
    {
      "cell_type": "code",
      "execution_count": null,
      "metadata": {
        "id": "V4guW8Tu5gdN"
      },
      "outputs": [],
      "source": [
        "#@title Calculates WNLL Scores \n",
        "#@markdown For all predicted probabilities and classes in a sentence, returns list of WNLL scores sorted in ascending order.\n",
        "# Parameters\n",
        "  # probs: list of BERT's predicted probabilities for each word token\n",
        "  # sent: list of word tokens \n",
        "  # returns list of WNLL scores for each word token \n",
        "def compute_wnll(probs, y_subt, sentence):\n",
        "    wnlls = {}\n",
        "    y_subp = probs                          \n",
        "\n",
        "    if(len(y_subp) != len(sentence.split())):     \n",
        "        error = \"Number of predicted probabilities did not match number of tokens in sentence.\\n\"\n",
        "        print(sentence)\n",
        "        print(\"\\n pred. probs: \", y_subp)\n",
        "        print(\"\\n ndim: \", str(y_subp.ndim))\n",
        "        print(\"\\n predicted classes: \", y_subt)\n",
        "        print(\"\\nlength of sentence: \" + str(len(sentence.split())) + error)\n",
        "        return 0\n",
        "    for index in range(0, len(y_subp)):\n",
        "      isNext = y_subt[index]\n",
        "      prob = y_subp[index]\n",
        "      if(prob==1):\n",
        "        wnll = -1*(isNext * math.log(1))\n",
        "      else:\n",
        "        wnll = float(-1*(isNext * math.log(prob) + (1-isNext) * math.log(1-prob)))\n",
        "      wnlls.update({wnll:index})\n",
        "    sorted_wnlls = sorted(wnlls)\n",
        "    return sorted_wnlls \n"
      ]
    },
    {
      "cell_type": "markdown",
      "metadata": {
        "id": "Wxav0i8IN2tL"
      },
      "source": [
        "#### **COMPUTING READABILITY** ####\n",
        "Next, all words are sorted in ascending order by WNLL score, and then I calculated ranked sentence readability score:\n",
        "\n",
        "$\n",
        "RSRS = \\frac{\\sum{_{i=1}^{S}} \\sqrt{i} \\cdot WNLL(i)}{S}\n",
        "$\n",
        "\n",
        "where i is the index of a word determined by WNLL, and S is the sentence length."
      ]
    },
    {
      "cell_type": "code",
      "execution_count": null,
      "metadata": {
        "id": "YpqDF-0l6Dk2"
      },
      "outputs": [],
      "source": [
        "#@title Calculates Ranked Sentence Readability Score \n",
        "#@markdown For each sentence, takes in list of WNLL scores and returns sentence-level RSRS.\n",
        "# wnll_scores: list of WNLL scores \n",
        "# S: length of sentence \n",
        "# returns readability score of sentence \n",
        "def compute_rsrs(wnll_scores, S):\n",
        "  if wnll_scores == 0:\n",
        "    error = \"WNLL is 0. Cannot compute Readability\"\n",
        "    print(error)\n",
        "    return -100\n",
        "  rsrs = {}\n",
        "  for i in range(0, len(wnll_scores)):\n",
        "    rsrs.update({i : (math.sqrt(i) * wnll_scores[i])})\n",
        "  readability = sum(rsrs.values()) / S\n",
        "  return readability"
      ]
    },
    {
      "cell_type": "markdown",
      "metadata": {
        "id": "e1uRg-pyQ9wT"
      },
      "source": [
        "#### **RUNNING THE PROGRAM** ####"
      ]
    },
    {
      "cell_type": "code",
      "execution_count": null,
      "metadata": {
        "id": "y1jq8YjAd5O4"
      },
      "outputs": [],
      "source": [
        "#@title Runs BERT model\n",
        "#@markdown Takes preprocessed sentence and BERT model object, returns dictionary of predicted logits and predicted classes.\n",
        "#@markdown <br> That is, classifies words as 0 if the word is actually next in the sentence and 1 if not.\n",
        "def run_bertie(bertie, inputs):\n",
        "  # Gets token-level classifier from Bertie object\n",
        "  model = bertie.getBertie() \n",
        "  predictions = {}\n",
        "  # Gets predicted logits from model and stores it in a numpy array\n",
        "  pred_logits = np.squeeze(model(inputs)['logits'].numpy())\n",
        "  # Gets predicted classes (0 or 1) and stores in a numpy array\n",
        "  pred_class = tf.math.argmax(model(inputs)['logits'], axis=-1).numpy()\n",
        "  # Updates dictionary with logits and classes\n",
        "  predictions.update({\"logits\": pred_logits})\n",
        "  predictions.update({\"classes\": pred_class})\n",
        "  \n",
        "  return predictions"
      ]
    },
    {
      "cell_type": "markdown",
      "metadata": {
        "id": "f8WeF6QYgLgd"
      },
      "source": [
        "#### **PUTTING IT ALL TOGETHER** ####\n",
        "To compute readability scores for each article in the Wikipedia database, I use the `.apply()` function to map scores from the `read_easy()` function to a new column in my database. "
      ]
    },
    {
      "cell_type": "code",
      "execution_count": null,
      "metadata": {
        "id": "XgK_DuiDe0Np"
      },
      "outputs": [],
      "source": [
        "#@title Runs Read Easy\n",
        "#@markdown Takes in article from Wikipedia database and returns ranked sentence readability score.\n",
        "def read_easy(doc):\n",
        "  # Initializes bertie object and list of readability scores\n",
        "  scores = []\n",
        "  bertie = Bertie()\n",
        "  bertie.makeBertie()\n",
        "\n",
        "  # Tokenizes article into list of sentences \n",
        "  # Using sentence tokenizer from nltk library\n",
        "  sentences = nltk.sent_tokenize(doc)\n",
        "  #For every sentence in the list of tokenized sentences\n",
        "  for sentence in sentences:\n",
        "    # S, or number of words in the sentence\n",
        "    length = len(sentence.split())\n",
        "\n",
        "    # Converts sentence into input tensors for BERT model\n",
        "    tokd_sentence = preprocess(bertie, sentence, length)\n",
        "\n",
        "    # Uses BERT for predicted logits and classes of tokens\n",
        "    predictions = run_bertie(bertie, tokd_sentence, 1)\n",
        "    y_subt = np.squeeze(predictions['classes'])\n",
        "    pred_prob = predictions['logits']\n",
        "    # If one-word sentence, adjusts formatting of predictions \n",
        "    if(pred_prob.ndim == 1):\n",
        "      pred_prob = [predictions['logits'][-1]]\n",
        "      y_subt = [y_subt]\n",
        "    else:\n",
        "      pred_prob = predictions['logits'][:, -1]\n",
        "\n",
        "    # Runs softmax distribution on predicted logits\n",
        "    useful_probs = softmax(pred_prob)\n",
        "\n",
        "    # Computs WNLL scores and RSRS per sentence\n",
        "    wnlls = compute_wnll(useful_probs, y_subt, sentence)\n",
        "    rsrs = compute_rsrs(wnlls, length)\n",
        "    # Safeguard error-checking in case number of predicted probabilities\n",
        "    # does not match sentence length\n",
        "    if rsrs == -100:\n",
        "      error = \"Readability prediction failed. Try again!\"\n",
        "      print(error)\n",
        "      return 0\n",
        "    # Updates list of scores for document\n",
        "    scores.append(rsrs)\n",
        "  # Returns average of all sentence scores \n",
        "  avg_rsrs = sum(scores) / len(scores)\n",
        "  return avg_rsrs\n"
      ]
    },
    {
      "cell_type": "markdown",
      "metadata": {
        "id": "m3e6egEAj5Ws"
      },
      "source": [
        "#### **TESTING READ EASY** ####\n",
        "\n",
        "To test and debug my program, I first ran `read_easy()` on a single article, then 10, 20, and eventually 50 random samples from my database. Here, I've included the final test of 200 random samples. I used the scores from these 200 samples to transform into a more intuitive scale.   \n",
        "\n",
        "This is the first article in the sample database, an article about the month of April. It includes newline characters because the nltk sentence tokenizer uses newline characters to break the article down into sentences. "
      ]
    },
    {
      "cell_type": "code",
      "execution_count": null,
      "metadata": {
        "colab": {
          "base_uri": "https://localhost:8080/",
          "height": 250
        },
        "id": "Ak72V8YHB0B1",
        "outputId": "30ef609b-f7bf-4ff3-c2ea-2095ebc899fe"
      },
      "outputs": [
        {
          "data": {
            "application/vnd.google.colaboratory.intrinsic+json": {
              "type": "string"
            },
            "text/plain": [
              "'April is the fourth month of the year in the Julian and Gregorian calendars, and comes between March and May. It is one of four months to have 30 days.\\n\\nApril always begins on the same day of week as July, and additionally, January in leap years. April always ends on the same day of the week as December.\\n\\nApril\\'s flowers are the Sweet Pea and Daisy. Its birthstone is the diamond. The meaning of the diamond is innocence.\\n\\nThe Month \\n\\nApril comes between March and May, making it the fourth month of the year. It also comes first in the year out of the four months that have 30 days, as June, September and November are later in the year.\\n\\nApril begins on the same day of the week as July every year and on the same day of the week as January in leap years. April ends on the same day of the week as December every year, as each other\\'s last days are exactly 35 weeks (245 days) apart.\\n\\nIn common years, April starts on the same day of the week as October of the previous year, and in leap years, May of the previous year. In common years, April finishes on the same day of the week as July of the previous year, and in leap years, February and October of the previous year. In common years immediately after other common years, April starts on the same day of the week as January of the previous year, and in leap years and years immediately after that, April finishes on the same day of the week as January of the previous year.\\n\\nIn years immediately before common years, April starts on the same day of the week as September and December of the following year, and in years immediately before leap years, June of the following year. In years immediately before common years, April finishes on the same day of the week as September of the following year, and in years immediately before leap years, March and June of the following year.\\n\\nApril is a spring month in the Northern Hemisphere and an autumn/fall month in the Southern Hemisphere. In each hemisphere, it is the seasonal equivalent of October in the other.\\n\\nIt is unclear as to where April got its name. A common theory is that it comes from the Latin word \"aperire\", meaning \"to open\", referring to flowers opening in spring. Another theory is that the name could come from Aphrodite, the Greek goddess of love. It was originally the second month in the old Roman Calendar, before the start of the new year was put to January 1.\\n\\nQuite a few festivals are held in this month. In many Southeast Asian cultures, new year is celebrated in this month (including Songkran). In Western Christianity, Easter can be celebrated on a Sunday between March 22 and April 25. In Orthodox Christianity, it can fall between April 4 and May 8. At the end of the month, Central and Northern European cultures celebrate Walpurgis Night on April 30, marking the transition from winter into summer.\\n\\nApril in poetry \\nPoets use April to mean the end of winter. For example: April showers bring May flowers.\\n\\nEvents in April\\n\\nFixed Events \\n\\n April 1 - April Fools\\' Day\\n April 1 - Islamic Republic Day (Iran)\\n April 2 - International Children\\'s Book Day\\n April 2 - Thai Heritage and Conservation Day\\n April 2 - World Autism Awareness Day\\n April 2 - Malvinas Day (Argentina)\\n April 4 - Independence Day (Senegal)\\n April 4 - International Day for Landmine Awareness and Assistance\\n April 4 - Peace Day (Angola)\\n April 5 - End of Tax Year (United Kingdom)\\n April 6 - Tartan Day (Canada and United States)\\n April 6 - Chakri Day (Thailand)\\n April 7 - Day of Maternity and Beauty (Armenia)\\n April 7 - Genocide Memorial Day (Rwanda)\\n April 7 - World Health Day\\n April 7 - Women\\'s Day (Mozambique)\\n April 8 - Buddha\\'s Birthday (Buddhism)\\n April 9 - Martyrs\\' Day (Tunisia)\\n April 9 - Day of National Unity (Georgia)\\n April 9 - Day of the Finnish language\\n April 12 - Cosmonauts\\' Day (Russia), marking the day of Yuri Gagarin\\'s space flight\\n April 13 - Songkan (Laos), local New Year celebration\\n April 13 - Cambodian New Year\\n April 13 - Thomas Jefferson\\'s Birthday (United States)\\n April 14 - Southeast Asian New Year festivals, including Songkran\\n April 14 - Georgian language Day\\n April 14 - Youth Day (Angola)\\n April 14 - Ambedkar Tayanti (India)\\n April 14 - Pan-American Day\\n April 15 - Tax Day (United States)\\n April 15 - Kim Il-Sung\\'s Birthday (North Korea)\\n April 15 - Father Damien Day (Hawaii)\\n April 15 - Jackie Robinson Day (Major League Baseball)\\n April 16 - Birthday of Queen Margrethe II of Denmark\\n April 16 - Emancipation Day (Washington, DC)\\n April 16 - World Voice Day\\n April 16 - Selena Day (Texas)\\n April 17 - National Day of Syria\\n April 17 - Flag Day (American Samoa)\\n April 17 - Women\\'s Day (Gabon)\\n April 17 - World Hemophilia Day\\n April 18 - Independence Day (Zimbabwe)\\n April 18 - Invention Day (Japan)\\n April 18 - International Day of Monuments and Sites\\n April 19 - Bicycle Day\\n April 19 - Dutch-American Friendship Day\\n April 19 - Birthday of King Mswati III of Swaziland\\n April 19 - Patriots\\' Day (Massachusetts, Maine, Wisconsin)\\n April 20 - 4/20 in Cannabis Culture\\n April 21 - John Muir Day (California)\\n April 21 - San Jacinto Day (Texas)\\n April 21 - Kartini Day (Indonesia)\\n April 21 - National Tree Planting Day (Kenya)\\n April 21 - First Day of Ridran (Baha\\'i faith)\\n April 21 - Grounation Day (Rastafari movement)\\n April 22 - Earth Day\\n April 22 - Discovery Day (Brazil)\\n April 23 - Saint George\\'s Day, celebrating the patron saint of several countries, regions and cities (including England and Catalonia)\\n April 23 - World Book Day\\n April 23 - National Sovereignty and Children\\'s Day (Turkey)\\n April 24 - Democracy Day (Nepal)\\n April 24 - Genocide Day (Armenia)\\n April 24 - Republic Day (the Gambia)\\n April 25 - Australia and New Zealand celebrate ANZAC Day. ANZAC  means Australian and New Zealand Army Corps, and began in 1915.\\n April 25 - World DNA Day\\n April 25 - World Malaria Day\\n April 25 - Flag Day (Swaziland, Faroe Islands)\\n April 25 - Freedom Day (Portugal)\\n April 25 - Liberation Day (Italy)\\n April 25 - Army Day (North Korea)\\n April 26 - Union Day (Tanzania)\\n April 26 - Confederate Memorial Day (Texas, Florida)\\n April 27 - Independence Day (Sierra Leone and Togo)\\n April 27 - Freedom Day (South Africa)\\n April 27 - World Tapir Day\\n April 27 - King\\'s Day (Netherlands) from 2014, birthday of Willem-Alexander of the Netherlands\\n April 28 - Workers Memorial Day\\n April 28 - National Day (Sardinia)\\n April 28 - National Heroes Day (Barbados)\\n April 29 - Showa Day (Japan), birthday of Emperor Hirohito, who died in 1989\\n April 29 - International Dance Day\\n April 30 - Former Queen\\'s Day Holiday in the Netherlands (changed to King\\'s Day, April 27 in 2014), was the birthday of former Queen Juliana of the Netherlands\\n April 30 - Flag Day in Sweden (birthday of King Carl XVI Gustaf of Sweden)\\n April 30 - International Jazz Day\\n April 30 - Walpurgis Night (Central and Northern Europe)\\n\\nMoveable Events \\n\\n Easter-related events in Western Christianity:\\n Palm Sunday (between March 15 and April 18)\\n Maundy Thursday (between March 19 and April 22)\\n Good Friday (between March 20 and April 23)\\n Easter Sunday (between March 22 and April 25)\\n Easter Monday (between March 23 and April 26)\\n Eastern Orthodox Easter falls between April 4 and May 8.\\n Ascension Day (Western Christianity), falls between April 30 and June 3.\\n Jewish Passover - falls in the same week as Western Christianity\\'s Holy Week, which is the week leading up to Easter.\\n Mother\\'s Day (UK) falls between March 1 and April 4.\\n World Snooker Championship (late April, early May)\\n Horse racing - Grand National (UK), Kentucky Derby (United States)\\n Start of Daylight Saving Time - Clocks going forward one hour:\\n Most of Mexico\\n Morocco (Ramadan does not include Daylight Saving Time)\\n End of Daylight Saving Time - Clocks going back one hour:\\n Southeast Australia, and New Zealand\\n Chile\\n Marathon Events in the following cities:\\n Belgrade, Serbia\\n Boston, Massachusetts, United States\\n Brighton, United Kingdom\\n Enschede, Netherlands\\n London, United Kingdom\\n Madrid, Spain\\n Paris, France\\n Rotterdam, Netherlands\\n Utrecht, Netherlands\\n Zurich, Switzerland\\n\\nSelection of Historical Events \\n\\n April 1, 1918 - The Royal Air Force is founded.\\n April 1, 1976 - Apple Inc. is founded.\\n April 1, 1979 - The Islamic Republic of Iran is founded.\\n April 1, 1999 - The territory of Nunavut is created in Northern Canada.\\n April 1, 2001 - The Netherlands introduces same-sex marriage, as the first country to do so.\\n April 2, 1519 - Florida is sighted by a European for the first time.\\n April 2, 1930 - Haile Selassie becomes Emperor of Ethiopia.\\n April 2, 1982 - Start of the Falklands War, as Argentine forces land on the Falkland Islands.\\n April 2, 2005 - Pope John Paul II dies aged 84, after 26-and-a-half years as Pope.\\n April 3, 1973 - The first-ever mobile phone call is placed by Martin Cooper in New York City.\\n April 4, 1721 - Robert Walpole becomes the first Prime Minister of Great Britain.\\n April 4, 1841 - William Henry Harrison dies. He was President of the United States for 31 days, the shortest-ever time in office for a US President.\\n April 4, 1960 - Senegal becomes independent.\\n April 4, 1968 - Assassination of Martin Luther King, Jr. in Memphis, Tennessee.\\n April 5, 1722 - Jacob Roggeveen becomes the first European to land on Easter Island, landing there on Easter Sunday.\\n April 6, 1320 - Scotland\\'s independence is confirmed with the Declaration of Arbroath.\\n April 6, 1830 - The Mormon Church is founded.\\n April 6, 1909 - Robert Peary claims to have been first at the North Pole on this date.\\n April 7, 1994 - The Rwandan Genocide begins.\\n April 9, 1865 - American Civil War: Confederate forces under Robert E. Lee surrender to Union forces.\\n April 9, 1940 - World War II: Denmark and Norway are invaded by Nazi Germany.\\n April 9, 1989 - April 9 tragedy: In Tbilisi, Georgia, a peaceful demonstration for independence is broken up by the Soviet Army, killing 20 people. The country gains independence on this date exactly two years later.\\n April 10, 1815 - Mount Tambora in Indonesia erupts in a huge eruption, affecting the world\\'s climate for at least a year.\\n April 10, 2010 - A plane crash near Smolensk, Russia, kills several people who were important in Poland, including President Lech Kaczynski.\\n April 11, 1814 - Napoleon Bonaparte is exiled to the island of Elba.\\n April 11, 1954 - Said to have been the most boring day of the 20th century.\\n April 12, 1861 - The American Civil War begins at Fort Sumter, Charleston, South Carolina.\\n April 12, 1945 - US President Franklin D. Roosevelt dies, and Harry S. Truman replaces him.\\n April 12, 1961 - Yuri Gagarin becomes the first human to fly into space.\\n April 14, 1865 - US President Abraham Lincoln is shot dead at Ford\\'s Theatre by John Wilkes Booth. Lincoln dies the next day.\\n April 14, 2010 - Qinghai Province, China, is hit by an earthquake, killing tens of thousands of people.\\n April 14, 2010 - The eruption of Eyjafjallajokull in Iceland shuts down air traffic around Europe for a week, due to its ash cloud.\\n April 15, 1912 - The ship RMS Titanic sinks near Newfoundland after hitting an iceberg, resulting in the deaths of many of the people on board.\\n April 16, 1943 - Albert Hofmann discovers LSD\\'s effects.\\n April 17, 1946 - Syria gains full independence from France.\\n April 18, 1906 - 1906 San Francisco earthquake: San Francisco, California, is hit by a big earthquake, resulting in fires that destroy large parts of the city.\\n April 18, 1980 - Zimbabwe gains full independence.\\n April 19, 1897 - The first Boston Marathon is held.\\n April 19, 1971 - Sierra Leone becomes a republic.\\n April 19, 1993 - The siege of the Branch Davidians at Waco, Texas, ends in a fire that kills 82 people.\\n April 19, 1995 - Timothy McVeigh carries out the Oklahoma City bombing, killing 169 people.\\n April 19, 2005 - Joseph Alois Ratzinger becomes Pope Benedict XVI.\\n April 20, 1902 - Marie Curie and Pierre Curie refine Radium.\\n April 20, 2010 - Deepwater Horizon oil spill: A massive fire on the Deepwater Horizon drilling rig in the Gulf of Mexico kills 11 workers and causes a massive oil spill, the worst spill in US history.\\n April 21, 753 BC - Legendary founding date of Rome\\n April 21, 1509 - Henry VIII of England becomes King.\\n April 21, 1908 - Frederick Cook claims to have reached the North Pole on this date.\\n April 22, 1502 - Pedro Alvares Cabral becomes the first European to reach present-day Brazil.\\n April 22, 1970 - Earth Day is observed for the first time.\\n April 23, 1533 - The Church of England declares that Henry VIII of England and Catherine of Aragon are not married.\\n April 24, 1916 - The Easter Rising occurs in Dublin, Ireland.\\n April 24, 1990 - The Hubble Space Telescope is launched on the Space Shuttle Discovery.\\n April 25, 1915 - World War I: In Turkey, the Battle of Gallipoli begins, Australian, French, British and New Zealand forces land at Anzac cove.\\n April 25, 1974 - Portugal\\'s dictatorship is overthrown in a coup, in what is known as the Carnation Revolution.\\n April 26, 1937 - Spanish Civil War: German planes bomb the town of Guernica, Basque Country, later depicted in a painting by Pablo Picasso.\\n April 26, 1964 - Tanganyika and Zanzibar merge to form Tanzania.\\n April 26, 1986 - A reactor explosion occurs at the Chernobyl nuclear plant in present-day Ukraine, with radiation spreading around Europe and the world.\\n April 26/27, 1994 - South Africa holds its first free elections.\\n April 27, 1960 - Togo becomes independent from France.\\n April 27, 1961 - Sierra Leone becomes independent from the United Kingdom.\\n April 28, 1789 - Mutiny on the ship Bounty in the Pacific Ocean, lead by Fletcher Christian.\\n April 28, 1945 - Benito Mussolini is executed by Italian partisans.\\n April 28, 1947 - In Peru, Thor Heyerdahl starts his Kon-Tiki expedition aimed at proving his theory that the Polynesian settlers on the Pacific Ocean\\'s islands came from South America.\\n April 29, 1991 - A cyclone in Bangladesh kills an estimated 138,000 people.\\n April 29, 2011 - The wedding of Prince William, Duke of Cambridge and Catherine, Duchess of Cambridge is broadcast worldwide.\\n April 30, 1789 - George Washington becomes the first President of the United States.\\n April 30, 1803 - The United States purchases (buys) the Louisiana territory from France.\\n April 30, 1945 - Adolf Hitler commits suicide on the same day that the Soviet Army raises the Red Flag on Berlin\\'s Reichstag.\\n April 30, 1952 - The Diary of Anne Frank is published in English.\\n April 30, 1975 - The Vietnam War ends, as North Vietnamese forces take Saigon.\\n April 30, 1980 - Queen Juliana of the Netherlands abdicates the throne, and her daughter becomes Queen Beatrix of the Netherlands. Beatrix later also abdicates, on this day in 2013, in favor of her son, King Willem-Alexander of the Netherlands.\\n\\nTrivia \\n\\n In Western Christianity, there is a bigger likelihood of Easter falling in April than in March.\\n The months around April (March and May) both start with an \\'M\\' in the English language, with an \\'A\\' as the second letter.\\n In the English language, April is the first of three months in-a-row, along with May and June, that is also a female given name.\\n The astrological signs for April are Aries (March 21 to April 20) and Taurus (April 21 to May 20).\\n The sweet pea and daisy are the traditional birth flowers for April.\\n Birthstone for April is the Diamond.\\nApril 1 is the only day in April to start within the first quarter of the calendar year.\\n If the months of the year were arranged in alphabetical order in the English language, April would come first.\\n Six current European monarchs were born in April. They are King Philippe of Belgium (April 15), Queen Margrethe II of Denmark (April 16), Henri, Grand Duke of Luxembourg (April 16), Elizabeth II of the United Kingdom and Commonwealth realms (April 21), King Willem-Alexander of the Netherlands (April 27), and King Carl XVI Gustaf of Sweden (April 30).\\n\\nReferences'"
            ]
          },
          "execution_count": 26,
          "metadata": {},
          "output_type": "execute_result"
        }
      ],
      "source": [
        "test_text = simple_df['text'][0]\n",
        "test_text\n"
      ]
    },
    {
      "cell_type": "markdown",
      "metadata": {
        "id": "IimDqnKmnFoF"
      },
      "source": [
        "Here's the readability score for the month of April:"
      ]
    },
    {
      "cell_type": "code",
      "execution_count": null,
      "metadata": {
        "colab": {
          "base_uri": "https://localhost:8080/"
        },
        "id": "SuKPZuLKPy6q",
        "outputId": "1e68da90-9ded-4eba-f33e-18cfab4aec28"
      },
      "outputs": [
        {
          "data": {
            "text/plain": [
              "7.350523955992588"
            ]
          },
          "execution_count": 27,
          "metadata": {},
          "output_type": "execute_result"
        }
      ],
      "source": [
        "results = read_easy(test_text)\n",
        "results"
      ]
    },
    {
      "cell_type": "markdown",
      "metadata": {
        "id": "cY4AJmhjnKLl"
      },
      "source": [
        "##### **SCORING 200 SAMPLES** #####\n",
        "Here, I run the `.apply()` function on a sample of 200 articles from the database and save it to `scores.csv` for future use. "
      ]
    },
    {
      "cell_type": "code",
      "execution_count": null,
      "metadata": {
        "id": "g03eYI7vlke0"
      },
      "outputs": [],
      "source": [
        "df_try = simple_df.sample(200)\n",
        "df_try['readability'] += df_try['text'].apply(lambda x: read_easy(x))"
      ]
    },
    {
      "cell_type": "code",
      "execution_count": null,
      "metadata": {
        "colab": {
          "base_uri": "https://localhost:8080/"
        },
        "id": "ld55pN4nmDcl",
        "outputId": "427a02f3-30ac-4044-fb38-72ed53b93f46"
      },
      "outputs": [
        {
          "data": {
            "text/plain": [
              "(200, 5)"
            ]
          },
          "execution_count": 72,
          "metadata": {},
          "output_type": "execute_result"
        }
      ],
      "source": [
        "df_try.shape"
      ]
    },
    {
      "cell_type": "code",
      "execution_count": null,
      "metadata": {
        "id": "8YVyvIvbmnQp"
      },
      "outputs": [],
      "source": [
        "from google.colab import files\n",
        "df_try.to_csv(\"scores.csv\")\n",
        "files.download(\"scores.csv\")"
      ]
    },
    {
      "cell_type": "markdown",
      "metadata": {
        "id": "xEHmgnE-kYHa"
      },
      "source": [
        "#### **TRANSFORMING RSRS INTO A READABLE SCALE** ####\n",
        " \n",
        "With the readability scores of 200 randomly sampled articles, I first looked at how the scores were distributed. By visualizing the distribution of the raw readability scores, I found that the readability scores span a range of `0` to `30`. The data **skews right**, indicating that there are a lot of articles with readability scores closer to 0. \n",
        "\n",
        "\n",
        "To measure how transforming readability scores impacts the clarity of RSRS, I apply three different transformation techniques to the raw readability scores and visualize the distributions of the transformed scores. I compare min-max scaling, z-score normalization, and box-cox transformation.\n",
        "> **Scaling** <br> I used the Min-Max scaling technique to scale the readability scores to a fixed range, `[0, 1]`. This bounded range leads to smaller standard deviations, which can suppress outliers. \n",
        "\n",
        "\n",
        "> **Standardization** <br> Standardization, or z-score normalization, transforms data so that it has the properties of a standard distribution with a mean of `0` and a standard deviation of `1`. This preserves outliers and their impact on the data.\n",
        "\n",
        "\n",
        "> **BoxCox Transformation** <br> Box Cox transformations use an exponent, lambda, with a range `[-5, 5]`. Box Cox performs a transformation of data using different lambda values, and determines the optimal value as the value where the transformation most closely resembles a normal distribution.\n",
        "\n",
        "\n",
        "Then, I demonstrate at the article with the highest readability score and the lowest readability score for each transformed scale, to see how these scores align with human intuition. \n"
      ]
    },
    {
      "cell_type": "code",
      "execution_count": null,
      "metadata": {
        "id": "bD7YBrTXbBJS"
      },
      "outputs": [],
      "source": [
        "#@title Imports for Transforming Readability Scores\n",
        "from google.colab import files\n",
        "import pandas as pd\n",
        "import seaborn as sns \n",
        "import numpy as np"
      ]
    },
    {
      "cell_type": "code",
      "execution_count": null,
      "metadata": {
        "colab": {
          "base_uri": "https://localhost:8080/",
          "height": 206
        },
        "id": "crrkDRPso00A",
        "outputId": "ceecf594-f659-4620-c8ee-27d7d3c78400"
      },
      "outputs": [
        {
          "data": {
            "text/html": [
              "\n",
              "  <div id=\"df-adc12f30-f979-4573-b42e-3641fe21ecbd\">\n",
              "    <div class=\"colab-df-container\">\n",
              "      <div>\n",
              "<style scoped>\n",
              "    .dataframe tbody tr th:only-of-type {\n",
              "        vertical-align: middle;\n",
              "    }\n",
              "\n",
              "    .dataframe tbody tr th {\n",
              "        vertical-align: top;\n",
              "    }\n",
              "\n",
              "    .dataframe thead th {\n",
              "        text-align: right;\n",
              "    }\n",
              "</style>\n",
              "<table border=\"1\" class=\"dataframe\">\n",
              "  <thead>\n",
              "    <tr style=\"text-align: right;\">\n",
              "      <th></th>\n",
              "      <th>Unnamed: 0</th>\n",
              "      <th>id</th>\n",
              "      <th>url</th>\n",
              "      <th>title</th>\n",
              "      <th>text</th>\n",
              "      <th>readability</th>\n",
              "    </tr>\n",
              "  </thead>\n",
              "  <tbody>\n",
              "    <tr>\n",
              "      <th>0</th>\n",
              "      <td>82277</td>\n",
              "      <td>357060</td>\n",
              "      <td>https://simple.wikipedia.org/wiki/Clive%20Dunn</td>\n",
              "      <td>Clive Dunn</td>\n",
              "      <td>Clive Robert Benjamin Dunn OBE (9 January 1920...</td>\n",
              "      <td>5.531944</td>\n",
              "    </tr>\n",
              "    <tr>\n",
              "      <th>1</th>\n",
              "      <td>74816</td>\n",
              "      <td>321142</td>\n",
              "      <td>https://simple.wikipedia.org/wiki/Canterbury%2...</td>\n",
              "      <td>Canterbury, Connecticut</td>\n",
              "      <td>Canterbury is a town in Windham County, Connec...</td>\n",
              "      <td>0.281981</td>\n",
              "    </tr>\n",
              "    <tr>\n",
              "      <th>2</th>\n",
              "      <td>157601</td>\n",
              "      <td>748454</td>\n",
              "      <td>https://simple.wikipedia.org/wiki/Montpellier%...</td>\n",
              "      <td>Montpellier Business School</td>\n",
              "      <td>Montpellier Business School is an European hig...</td>\n",
              "      <td>0.673116</td>\n",
              "    </tr>\n",
              "    <tr>\n",
              "      <th>3</th>\n",
              "      <td>177504</td>\n",
              "      <td>806035</td>\n",
              "      <td>https://simple.wikipedia.org/wiki/Camilla%20Power</td>\n",
              "      <td>Camilla Power</td>\n",
              "      <td>Camilla Joy Cynthia Power (born 13 November 19...</td>\n",
              "      <td>2.128543</td>\n",
              "    </tr>\n",
              "    <tr>\n",
              "      <th>4</th>\n",
              "      <td>46006</td>\n",
              "      <td>160138</td>\n",
              "      <td>https://simple.wikipedia.org/wiki/Rully%2C%20C...</td>\n",
              "      <td>Rully, Calvados</td>\n",
              "      <td>Rully, Calvados is a former commune. It is fou...</td>\n",
              "      <td>4.935183</td>\n",
              "    </tr>\n",
              "  </tbody>\n",
              "</table>\n",
              "</div>\n",
              "      <button class=\"colab-df-convert\" onclick=\"convertToInteractive('df-adc12f30-f979-4573-b42e-3641fe21ecbd')\"\n",
              "              title=\"Convert this dataframe to an interactive table.\"\n",
              "              style=\"display:none;\">\n",
              "        \n",
              "  <svg xmlns=\"http://www.w3.org/2000/svg\" height=\"24px\"viewBox=\"0 0 24 24\"\n",
              "       width=\"24px\">\n",
              "    <path d=\"M0 0h24v24H0V0z\" fill=\"none\"/>\n",
              "    <path d=\"M18.56 5.44l.94 2.06.94-2.06 2.06-.94-2.06-.94-.94-2.06-.94 2.06-2.06.94zm-11 1L8.5 8.5l.94-2.06 2.06-.94-2.06-.94L8.5 2.5l-.94 2.06-2.06.94zm10 10l.94 2.06.94-2.06 2.06-.94-2.06-.94-.94-2.06-.94 2.06-2.06.94z\"/><path d=\"M17.41 7.96l-1.37-1.37c-.4-.4-.92-.59-1.43-.59-.52 0-1.04.2-1.43.59L10.3 9.45l-7.72 7.72c-.78.78-.78 2.05 0 2.83L4 21.41c.39.39.9.59 1.41.59.51 0 1.02-.2 1.41-.59l7.78-7.78 2.81-2.81c.8-.78.8-2.07 0-2.86zM5.41 20L4 18.59l7.72-7.72 1.47 1.35L5.41 20z\"/>\n",
              "  </svg>\n",
              "      </button>\n",
              "      \n",
              "  <style>\n",
              "    .colab-df-container {\n",
              "      display:flex;\n",
              "      flex-wrap:wrap;\n",
              "      gap: 12px;\n",
              "    }\n",
              "\n",
              "    .colab-df-convert {\n",
              "      background-color: #E8F0FE;\n",
              "      border: none;\n",
              "      border-radius: 50%;\n",
              "      cursor: pointer;\n",
              "      display: none;\n",
              "      fill: #1967D2;\n",
              "      height: 32px;\n",
              "      padding: 0 0 0 0;\n",
              "      width: 32px;\n",
              "    }\n",
              "\n",
              "    .colab-df-convert:hover {\n",
              "      background-color: #E2EBFA;\n",
              "      box-shadow: 0px 1px 2px rgba(60, 64, 67, 0.3), 0px 1px 3px 1px rgba(60, 64, 67, 0.15);\n",
              "      fill: #174EA6;\n",
              "    }\n",
              "\n",
              "    [theme=dark] .colab-df-convert {\n",
              "      background-color: #3B4455;\n",
              "      fill: #D2E3FC;\n",
              "    }\n",
              "\n",
              "    [theme=dark] .colab-df-convert:hover {\n",
              "      background-color: #434B5C;\n",
              "      box-shadow: 0px 1px 3px 1px rgba(0, 0, 0, 0.15);\n",
              "      filter: drop-shadow(0px 1px 2px rgba(0, 0, 0, 0.3));\n",
              "      fill: #FFFFFF;\n",
              "    }\n",
              "  </style>\n",
              "\n",
              "      <script>\n",
              "        const buttonEl =\n",
              "          document.querySelector('#df-adc12f30-f979-4573-b42e-3641fe21ecbd button.colab-df-convert');\n",
              "        buttonEl.style.display =\n",
              "          google.colab.kernel.accessAllowed ? 'block' : 'none';\n",
              "\n",
              "        async function convertToInteractive(key) {\n",
              "          const element = document.querySelector('#df-adc12f30-f979-4573-b42e-3641fe21ecbd');\n",
              "          const dataTable =\n",
              "            await google.colab.kernel.invokeFunction('convertToInteractive',\n",
              "                                                     [key], {});\n",
              "          if (!dataTable) return;\n",
              "\n",
              "          const docLinkHtml = 'Like what you see? Visit the ' +\n",
              "            '<a target=\"_blank\" href=https://colab.research.google.com/notebooks/data_table.ipynb>data table notebook</a>'\n",
              "            + ' to learn more about interactive tables.';\n",
              "          element.innerHTML = '';\n",
              "          dataTable['output_type'] = 'display_data';\n",
              "          await google.colab.output.renderOutput(dataTable, element);\n",
              "          const docLink = document.createElement('div');\n",
              "          docLink.innerHTML = docLinkHtml;\n",
              "          element.appendChild(docLink);\n",
              "        }\n",
              "      </script>\n",
              "    </div>\n",
              "  </div>\n",
              "  "
            ],
            "text/plain": [
              "   Unnamed: 0      id                                                url  \\\n",
              "0       82277  357060     https://simple.wikipedia.org/wiki/Clive%20Dunn   \n",
              "1       74816  321142  https://simple.wikipedia.org/wiki/Canterbury%2...   \n",
              "2      157601  748454  https://simple.wikipedia.org/wiki/Montpellier%...   \n",
              "3      177504  806035  https://simple.wikipedia.org/wiki/Camilla%20Power   \n",
              "4       46006  160138  https://simple.wikipedia.org/wiki/Rully%2C%20C...   \n",
              "\n",
              "                         title  \\\n",
              "0                   Clive Dunn   \n",
              "1      Canterbury, Connecticut   \n",
              "2  Montpellier Business School   \n",
              "3                Camilla Power   \n",
              "4              Rully, Calvados   \n",
              "\n",
              "                                                text  readability  \n",
              "0  Clive Robert Benjamin Dunn OBE (9 January 1920...     5.531944  \n",
              "1  Canterbury is a town in Windham County, Connec...     0.281981  \n",
              "2  Montpellier Business School is an European hig...     0.673116  \n",
              "3  Camilla Joy Cynthia Power (born 13 November 19...     2.128543  \n",
              "4  Rully, Calvados is a former commune. It is fou...     4.935183  "
            ]
          },
          "execution_count": 40,
          "metadata": {},
          "output_type": "execute_result"
        }
      ],
      "source": [
        "df_scores = pd.read_csv('scores.csv')\n",
        "df_scores.replace(r'\\\\|[\\']|\\n','', regex=True) \n",
        "df_scores.head()"
      ]
    },
    {
      "cell_type": "code",
      "execution_count": null,
      "metadata": {
        "colab": {
          "base_uri": "https://localhost:8080/",
          "height": 525
        },
        "id": "bZnN_mGipMsZ",
        "outputId": "fe8a33c8-9d89-481e-e90c-7e4b5286dc8d"
      },
      "outputs": [
        {
          "data": {
            "text/plain": [
              "<seaborn.axisgrid.FacetGrid at 0x7f9f54067250>"
            ]
          },
          "execution_count": 42,
          "metadata": {},
          "output_type": "execute_result"
        },
        {
          "data": {
            "image/png": "[encoded data removed]",
            "text/plain": [
              "<Figure size 500x500 with 1 Axes>"
            ]
          },
          "metadata": {},
          "output_type": "display_data"
        }
      ],
      "source": [
        "# import seaborn as sns\n",
        "sns.displot(df_scores, x=df_scores['readability'])"
      ]
    },
    {
      "cell_type": "code",
      "execution_count": null,
      "metadata": {
        "colab": {
          "base_uri": "https://localhost:8080/",
          "height": 525
        },
        "id": "BDhVayE-PlSc",
        "outputId": "1e76f3bf-ef2a-4ea9-e19a-8bde0c7d4d58"
      },
      "outputs": [
        {
          "data": {
            "text/plain": [
              "<seaborn.axisgrid.FacetGrid at 0x7f9f53d801c0>"
            ]
          },
          "execution_count": 43,
          "metadata": {},
          "output_type": "execute_result"
        },
        {
          "data": {
            "image/png": "[encoded data removed]",
            "text/plain": [
              "<Figure size 500x500 with 1 Axes>"
            ]
          },
          "metadata": {},
          "output_type": "display_data"
        }
      ],
      "source": [
        "#@title MinMax Scaling\n",
        "from sklearn.preprocessing import MinMaxScaler\n",
        "# Formats readability scores into two-dimensional array\n",
        "data = df_scores['readability'].to_numpy()\n",
        "data = data.reshape((-1, 1))\n",
        "\n",
        "# Uses sklearn's MinMaxScaler to scale readability from 0 to 1\n",
        "mm_scaler = MinMaxScaler()\n",
        "minmax = mm_scaler.fit(data)\n",
        "mm_scores = minmax.transform(data)\n",
        "df_scores['mm_readability'] = np.squeeze(mm_scores).tolist()\n",
        "\n",
        "# Plots scaled scores\n",
        "sns.displot(df_scores, x='mm_readability')"
      ]
    },
    {
      "cell_type": "code",
      "execution_count": null,
      "metadata": {
        "colab": {
          "base_uri": "https://localhost:8080/"
        },
        "id": "ajk4xjfhvzkd",
        "outputId": "da8aa1c6-d8a2-4d29-d2dd-0ddf36d19f93"
      },
      "outputs": [
        {
          "name": "stdout",
          "output_type": "stream",
          "text": [
            "SCORE:  100 \n",
            "  Locality Name : Chunari ( चुनरी )\n",
            "Tehsil Name : Teonthar\n",
            "District : Rewa\n",
            "State : Madhya Pradesh\n",
            "Division : Rewa\n",
            "Language : Hindi and Devanagari,dravidian,agariya\n",
            "Current Time 05:51 PM\n",
            "Date: Sunday , Feb 09,2020 (IST)\n",
            "Time zone: IST (UTC+5:30)\n",
            "Elevation / Altitude: 135 meters. Above Seal level\n",
            "Telephone Code / Std Code: 07661\n",
            "\n",
            "Assembly constituency : Teonthar assembly constituency\n",
            "Assembly MLA : shyam lal dwivedi\n",
            "Lok Sabha constituency : Rewa parliamentary constituency\n",
            "Parliament MP : JANARDAN MISHRA\n",
            "Serpanch Name : Munsee lal singh urf (Dada)\n",
            "Pin Code : 486223\n",
            "Post Office Name : Jawa\n",
            "\n",
            "Petrol pump -Alopan mata Petrolpump\n",
            "Gas station in Sahijwar, Madhya Pradesh\n",
            "Government hospital there and semi government school also\n",
            "\n",
            "Teonthar Tehsil Court -\n",
            "divide into 2 part\n",
            "1-Teonthar nagar panchayat (population 17039\n",
            "2- chakghat nagar panchayat (population 10678)\n",
            "Prachalit khatha sohagi pahadh/chunnri gaao\n",
            "Pus maah ters the festival of lord mahadev\n",
            "Named as adhgadh nath dham mandir the tourist place there there are some mistry over ther relating indian indipendent the thakur vansaj of Rameshwar Prasad singh the freedom fighter and best friend of mahatma gandhi many story’s are there\n",
            "\n",
            "Districts of Madhya Pradesh\n"
          ]
        }
      ],
      "source": [
        "df_scores.loc[df_scores[\"mm_readability\"] == 1.0]\n",
        "mm_max = df_scores['text'][126] \n",
        "mm_max.replace(r'\\\\|[\\']|\\n','') \n",
        "mm_score = int(df_scores[\"mm_readability\"].max(axis=0)) * 100\n",
        "print(\"SCORE: \", mm_score, \n",
        "      \"\\n \", mm_max)"
      ]
    },
    {
      "cell_type": "code",
      "execution_count": null,
      "metadata": {
        "colab": {
          "base_uri": "https://localhost:8080/",
          "height": 525
        },
        "id": "iyYZTOPYQB7a",
        "outputId": "678b496c-f9a7-435e-ff48-5bebcf2fd888"
      },
      "outputs": [
        {
          "data": {
            "text/plain": [
              "<seaborn.axisgrid.FacetGrid at 0x7f9f541c8820>"
            ]
          },
          "execution_count": 44,
          "metadata": {},
          "output_type": "execute_result"
        },
        {
          "data": {
            "image/png": "[encoded data removed]",
            "text/plain": [
              "<Figure size 500x500 with 1 Axes>"
            ]
          },
          "metadata": {},
          "output_type": "display_data"
        }
      ],
      "source": [
        "#@title Z-Score Normalization \n",
        "from sklearn.preprocessing import StandardScaler\n",
        "\n",
        "# Uses sklearn's StandardScaler to normalize readability using z-scores\n",
        "zscaler = StandardScaler()\n",
        "zscore = zscaler.fit(data)\n",
        "z_scores = zscaler.transform(data)\n",
        "df_scores['z_readability'] = np.squeeze(z_scores).tolist()\n",
        "\n",
        "# Plots normalized scores\n",
        "sns.displot(df_scores, x='z_readability')"
      ]
    },
    {
      "cell_type": "code",
      "execution_count": null,
      "metadata": {
        "colab": {
          "base_uri": "https://localhost:8080/"
        },
        "id": "Gi8YYC-mxyWa",
        "outputId": "8d97391b-4534-492c-f854-1537f2854112"
      },
      "outputs": [
        {
          "name": "stdout",
          "output_type": "stream",
          "text": [
            "SCORE:  6.813695120280253 \n",
            "  Locality Name : Chunari ( चुनरी )\n",
            "Tehsil Name : Teonthar\n",
            "District : Rewa\n",
            "State : Madhya Pradesh\n",
            "Division : Rewa\n",
            "Language : Hindi and Devanagari,dravidian,agariya\n",
            "Current Time 05:51 PM\n",
            "Date: Sunday , Feb 09,2020 (IST)\n",
            "Time zone: IST (UTC+5:30)\n",
            "Elevation / Altitude: 135 meters. Above Seal level\n",
            "Telephone Code / Std Code: 07661\n",
            "\n",
            "Assembly constituency : Teonthar assembly constituency\n",
            "Assembly MLA : shyam lal dwivedi\n",
            "Lok Sabha constituency : Rewa parliamentary constituency\n",
            "Parliament MP : JANARDAN MISHRA\n",
            "Serpanch Name : Munsee lal singh urf (Dada)\n",
            "Pin Code : 486223\n",
            "Post Office Name : Jawa\n",
            "\n",
            "Petrol pump -Alopan mata Petrolpump\n",
            "Gas station in Sahijwar, Madhya Pradesh\n",
            "Government hospital there and semi government school also\n",
            "\n",
            "Teonthar Tehsil Court -\n",
            "divide into 2 part\n",
            "1-Teonthar nagar panchayat (population 17039\n",
            "2- chakghat nagar panchayat (population 10678)\n",
            "Prachalit khatha sohagi pahadh/chunnri gaao\n",
            "Pus maah ters the festival of lord mahadev\n",
            "Named as adhgadh nath dham mandir the tourist place there there are some mistry over ther relating indian indipendent the thakur vansaj of Rameshwar Prasad singh the freedom fighter and best friend of mahatma gandhi many story’s are there\n",
            "\n",
            "Districts of Madhya Pradesh\n"
          ]
        }
      ],
      "source": [
        "df_scores.loc[df_scores[\"z_readability\"] == df_scores[\"z_readability\"].max(axis=0)]\n",
        "z_max = df_scores['text'][126] \n",
        "z_max.replace(r'\\\\|[\\']|\\n','') \n",
        "print(\"SCORE: \", df_scores[\"z_readability\"].max(axis=0), \n",
        "      \"\\n \", z_max)"
      ]
    },
    {
      "cell_type": "code",
      "execution_count": null,
      "metadata": {
        "cellView": "form",
        "colab": {
          "base_uri": "https://localhost:8080/",
          "height": 525
        },
        "id": "qg-YGZHAROhl",
        "outputId": "a63d75ac-3dc1-4562-d2f1-1487084c91a1"
      },
      "outputs": [
        {
          "data": {
            "text/plain": [
              "<seaborn.axisgrid.FacetGrid at 0x7f9f53c0e1d0>"
            ]
          },
          "execution_count": 45,
          "metadata": {},
          "output_type": "execute_result"
        },
        {
          "data": {
            "image/png": "[encoded data removed]",
            "text/plain": [
              "<Figure size 500x500 with 1 Axes>"
            ]
          },
          "metadata": {},
          "output_type": "display_data"
        }
      ],
      "source": [
        "#@title Box-Cox Transformation\n",
        "from sklearn.preprocessing import power_transform\n",
        "\n",
        "# Uses sklearn's power_transform to apply box-cox normalization to raw readability scores\n",
        "boxcox = power_transform(data, method='box-cox')\n",
        "df_scores['bc_readability'] = np.squeeze(boxcox).tolist()\n",
        "\n",
        "# Plots transformed scores\n",
        "sns.displot(df_scores, x='bc_readability')"
      ]
    },
    {
      "cell_type": "code",
      "execution_count": null,
      "metadata": {
        "colab": {
          "base_uri": "https://localhost:8080/"
        },
        "id": "qM5gBkzjLBmq",
        "outputId": "b9085d27-f784-4d55-fb55-e9d4b801ce91"
      },
      "outputs": [
        {
          "name": "stdout",
          "output_type": "stream",
          "text": [
            "SCORE:  3.014066894872234 \n",
            "  Locality Name : Chunari ( चुनरी )\n",
            "Tehsil Name : Teonthar\n",
            "District : Rewa\n",
            "State : Madhya Pradesh\n",
            "Division : Rewa\n",
            "Language : Hindi and Devanagari,dravidian,agariya\n",
            "Current Time 05:51 PM\n",
            "Date: Sunday , Feb 09,2020 (IST)\n",
            "Time zone: IST (UTC+5:30)\n",
            "Elevation / Altitude: 135 meters. Above Seal level\n",
            "Telephone Code / Std Code: 07661\n",
            "\n",
            "Assembly constituency : Teonthar assembly constituency\n",
            "Assembly MLA : shyam lal dwivedi\n",
            "Lok Sabha constituency : Rewa parliamentary constituency\n",
            "Parliament MP : JANARDAN MISHRA\n",
            "Serpanch Name : Munsee lal singh urf (Dada)\n",
            "Pin Code : 486223\n",
            "Post Office Name : Jawa\n",
            "\n",
            "Petrol pump -Alopan mata Petrolpump\n",
            "Gas station in Sahijwar, Madhya Pradesh\n",
            "Government hospital there and semi government school also\n",
            "\n",
            "Teonthar Tehsil Court -\n",
            "divide into 2 part\n",
            "1-Teonthar nagar panchayat (population 17039\n",
            "2- chakghat nagar panchayat (population 10678)\n",
            "Prachalit khatha sohagi pahadh/chunnri gaao\n",
            "Pus maah ters the festival of lord mahadev\n",
            "Named as adhgadh nath dham mandir the tourist place there there are some mistry over ther relating indian indipendent the thakur vansaj of Rameshwar Prasad singh the freedom fighter and best friend of mahatma gandhi many story’s are there\n",
            "\n",
            "Districts of Madhya Pradesh\n"
          ]
        }
      ],
      "source": [
        "df_scores.loc[df_scores[\"bc_readability\"] == df_scores[\"bc_readability\"].max(axis=0)]\n",
        "bc_max = df_scores['text'][126] \n",
        "bc_max.replace(r'\\\\|[\\']|\\n','') \n",
        "print(\"SCORE: \", df_scores[\"bc_readability\"].max(axis=0), \n",
        "      \"\\n \", bc_max)"
      ]
    },
    {
      "cell_type": "markdown",
      "metadata": {
        "id": "ABE9XC8F0CdF"
      },
      "source": [
        "### **DISCUSSION** ###\n",
        "All three scales identified the least readable article to be an article on the Chunari locality of Madhya Pradesh, India. This could be attributed to the fact that this article uses a lot of romanized Hindi proper nouns, which would produce low WNLL scores, generating a higher RSRS per sentence. While BERT has high cultural transferability and can be trained on many different languages, it appears to struggle when computing readability on articles with romanized words from languages like Hindi. It would be interesting to see how a BERT classifier trained on Hindi and English might differ in its evaluation of the readability of this artcle.\n",
        "\n",
        "From the three scales, the Min-Max Scaler appears to most successfully create an intuitive and clear measure of readability. Mapping the raw RSRS scores to a percentage value appears to present a readability score that is quick and easy to understand. While I did not have time to incorporate other feedback into my findings, this leaves room to extend and improve this analysis. A short survey presenting the highest and lowest scored articles for each scale as well as one random article and its associated score along each scale might be used to well describe how these transformed scores align with human intuition when it comes to text readability.\n",
        "\n",
        "The task attempted here was definitely a challenge. There were many moving parts and I set a high standard for what I set out to accomplish through this experiment. Getting a workable model, which was really just the beginning of my initial proposal, proved to be a tough task to tackle. However, it was fulfilling to be able to build a strong, flexible model for predicting readability. With more time and resources, I would improve this analysis by using more nuanced scaling and normalizing techniques and centering human input in determining the effect of these transformations. I would also apply the SHAP framework to better understand which features were weighed most in predicting probability, and use that to understand how articles are determined to be more or less readable (Lundberg et. al, 2017).   "
      ]
    },
    {
      "cell_type": "markdown",
      "metadata": {
        "id": "XamIMhOq3hml"
      },
      "source": [
        "#### **REFERENCES** ####\n",
        "\n",
        "1. Cambridge Linguistics Article on Cohesion and Coherence: https://www.english.cam.ac.uk/elor/lo/cohesion/index.html\n",
        "2. Gunning, Robert. 1952. The Technique of Clear Writing. McGraw-Hill, New York.\n",
        "3. Medium Article on Statistical Transformations: https://medium.com/@isalindgren313/transformations-scaling-and-normalization-420b2be12300\n",
        "4. Matej Martinc, Senja Pollak, Marko Robnik-Šikonja; Supervised and Unsupervised Neural Approaches to Text Readability. Computational Linguistics 2021; 47 (1): 141–179. doi: https://doi.org/10.1162/coli_a_00398\n",
        "5. Vajjala, Sowmya and Detmar Meurers. 2012. On improving the accuracy of readability classification using insights from second language acquisition. In Proceedings of the Seventh Workshop on Building Educational Applications Using NLP, pages 163–173, Montreal.\n",
        "6. Lundberg, Scott M. and Su-In Lee. 2017. A unified approach to interpreting model predictions. In Advances in Neural Information Processing Systems, pages 4768–4777, Long Beach, CA.\n",
        "7. Tensorflow Fine-Tuning Tutorial Referenced: https://www.tensorflow.org/tfmodels/nlp/fine_tune_bert"
      ]
    }
  ],
  "metadata": {
    "accelerator": "TPU",
    "colab": {
      "provenance": []
    },
    "gpuClass": "standard",
    "kernelspec": {
      "display_name": "Python 3",
      "name": "python3"
    },
    "language_info": {
      "name": "python"
    }
  },
  "nbformat": 4,
  "nbformat_minor": 0
}
